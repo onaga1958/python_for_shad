{
 "cells": [
  {
   "cell_type": "code",
   "execution_count": 1,
   "metadata": {
    "collapsed": false,
    "deletable": true,
    "editable": true,
    "scrolled": true
   },
   "outputs": [],
   "source": [
    "import generator\n",
    "import get_train_data"
   ]
  },
  {
   "cell_type": "markdown",
   "metadata": {},
   "source": [
    "Данные берем с сайта http://lib.ru/RUFANT/BELAEW/. Считываем оттуда 11 рассказов. Число слов выводиться в ячейке ниже."
   ]
  },
  {
   "cell_type": "code",
   "execution_count": 2,
   "metadata": {
    "collapsed": false,
    "deletable": true,
    "editable": true
   },
   "outputs": [
    {
     "name": "stdout",
     "output_type": "stream",
     "text": [
      "total words: 312990\n"
     ]
    }
   ],
   "source": [
    "get_train_data.main()"
   ]
  },
  {
   "cell_type": "code",
   "execution_count": 2,
   "metadata": {
    "collapsed": true,
    "deletable": true,
    "editable": true
   },
   "outputs": [],
   "source": [
    "with open('to_generator.txt') as f:\n",
    "    first_line = f.readline().strip().split()\n",
    "    depth, size = int(first_line[2]), int(first_line[4])\n",
    "    text = [line.strip() for line in f]"
   ]
  },
  {
   "cell_type": "code",
   "execution_count": 22,
   "metadata": {
    "collapsed": false,
    "deletable": true,
    "editable": true
   },
   "outputs": [],
   "source": [
    "proba_dict = generator.get_probabilities(text, depth + 2, True, False)"
   ]
  },
  {
   "cell_type": "code",
   "execution_count": 5,
   "metadata": {
    "collapsed": false,
    "deletable": true,
    "editable": true
   },
   "outputs": [
    {
     "name": "stdout",
     "output_type": "stream",
     "text": [
      "Но он не решился. Проходят долгие минуты. Наконец дошел до сломанной мачты, трубы затонувших кораблей, едва уловимые звуки наставника, и он отдал команду идти полным ходом. Жара от пожара становилась невыносимой. Дым душил, пламя захватывало все новые и новые электроны. Световые снаряды начали вышибать эти электроны.\n",
      "- Уж не шпионите ли вы держать Престо в последнее время.\n",
      "- Если мы вовремя не вернемся, то увидите, что он слышит сдержанный шум голосов, скрип досок на полусгнивших палубах под чьими.\n",
      "- Тебе будет недоставать лишь запаха океана. Веревки уходили\n"
     ]
    }
   ],
   "source": [
    "generator.generate(depth, size, proba_dict=proba_dict)"
   ]
  },
  {
   "cell_type": "code",
   "execution_count": 6,
   "metadata": {
    "collapsed": false,
    "deletable": true,
    "editable": true
   },
   "outputs": [
    {
     "name": "stdout",
     "output_type": "stream",
     "text": [
      "Знаете ли вы держать Престо в приподнятом настроении ходил по потолку вниз головой! Ниже, на глазах. Люкс опустилась на кушетку, минуту длилось молчание. Гофман вместо десяти прислал только пять. В ярости, будучи нашими бдительными вахтенными, которые заявили, что все части и узкая в нижней, сохранила черты детского строения. Особенно прочувственную речь сказал губернатор, прокурор и прочие участники прощального ужина Люкс неожиданно заявила своему жениху, блистательному Лоренцу Марру, что ее придется отрезать. И ты получишь у меня. Я скрипел зубами и так, как конфету\n"
     ]
    }
   ],
   "source": [
    "generator.generate(depth, size, proba_dict=proba_dict)"
   ]
  },
  {
   "cell_type": "code",
   "execution_count": 20,
   "metadata": {
    "collapsed": false,
    "deletable": true,
    "editable": true
   },
   "outputs": [
    {
     "name": "stdout",
     "output_type": "stream",
     "text": [
      "Тем временем Керн быстро произвел сечение голов трупов. Пять из них сталкивались на пути полусгнившие и позеленевшие обломки кораблей. Он применял те способы, которым пользовались в городке нет больше сил. Вероятно, ни к какому решению. Во сне его преследовали кошмары. Она или смущается, и поплыла вокруг подводного жилища, лежа на волнах, что такой шар не мог разобрать слов. Слейтону что.\n",
      "- В воскресенье в десятом часу вечера. Еще рано. Работа кипела. Водоросли задерживают ход парусного судна, прекрасные костюмы, этакие комбинезоны из парусины с капюшоном\n"
     ]
    }
   ],
   "source": [
    "generator.generate(depth, size, proba_dict=proba_dict)"
   ]
  },
  {
   "cell_type": "code",
   "execution_count": 26,
   "metadata": {
    "collapsed": false,
    "deletable": true,
    "editable": true
   },
   "outputs": [
    {
     "name": "stdout",
     "output_type": "stream",
     "text": [
      "И вот тут.\n",
      "- Мой друг, старый Низмат, очень болен, ему необходимы врач, лекарства. Одни из них выделялись на экране темным, другие более светлым обрамлением. Я подбежал к девушке и трясущимися руками пытался натянуть ей на голову скафандр Волков помог ему прикрепить ранец с аппаратом, пока будет чиниться ваш скафандр. Он готов. Вы можете отвечать за свои поступки. Я укажу вам, где находится мой сын. Полиция его искала или делала вид, что о краже не может быть конченым, мистер Престо. Поверьте мне, она\n"
     ]
    }
   ],
   "source": [
    "generator.generate(depth + 1, size, proba_dict=proba_dict)"
   ]
  },
  {
   "cell_type": "code",
   "execution_count": 27,
   "metadata": {
    "collapsed": false,
    "deletable": true,
    "editable": true
   },
   "outputs": [
    {
     "name": "stdout",
     "output_type": "stream",
     "text": [
      "Урок был дан хороший! Весь мир содрогнулся от ужаса. С громом и скрежетом вокруг судна плясали, сталкивались и ломались большие ледяные глыбы. Но не это испугало Николу. Подхваченный сильным течением, пароход бешено летел между двумя отвесными скалами. Главное.\n",
      "- Несчастный Бласко! Значит, ты погиб. Но для вас, как видите. Мне известно, что ряд опытов, и самых интересных, он производит на дому. Но он очень замкнутый человек и никого не желает пускать в свое святая святых. А сколько со всем этим было возни!\n"
     ]
    }
   ],
   "source": [
    "generator.generate(depth + 2, size, proba_dict=proba_dict)"
   ]
  }
 ],
 "metadata": {
  "kernelspec": {
   "display_name": "Python 3",
   "language": "python",
   "name": "python3"
  },
  "language_info": {
   "codemirror_mode": {
    "name": "ipython",
    "version": 3
   },
   "file_extension": ".py",
   "mimetype": "text/x-python",
   "name": "python",
   "nbconvert_exporter": "python",
   "pygments_lexer": "ipython3",
   "version": "3.5.2"
  }
 },
 "nbformat": 4,
 "nbformat_minor": 2
}
