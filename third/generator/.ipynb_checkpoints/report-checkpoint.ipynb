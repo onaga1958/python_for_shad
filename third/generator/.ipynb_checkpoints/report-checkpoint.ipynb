{
 "cells": [
  {
   "cell_type": "code",
   "execution_count": 1,
   "metadata": {
    "collapsed": false,
    "deletable": true,
    "editable": true,
    "scrolled": true
   },
   "outputs": [],
   "source": [
    "import generator\n",
    "import get_train_data"
   ]
  },
  {
   "cell_type": "code",
   "execution_count": 2,
   "metadata": {
    "collapsed": false,
    "deletable": true,
    "editable": true
   },
   "outputs": [
    {
     "name": "stdout",
     "output_type": "stream",
     "text": [
      "total words: 312990\n"
     ]
    }
   ],
   "source": [
    "get_train_data.main()"
   ]
  },
  {
   "cell_type": "code",
   "execution_count": 2,
   "metadata": {
    "collapsed": true,
    "deletable": true,
    "editable": true
   },
   "outputs": [],
   "source": [
    "with open('to_generator.txt') as f:\n",
    "    first_line = f.readline().strip().split()\n",
    "    depth, size = int(first_line[2]), int(first_line[4])\n",
    "    text = [line.strip() for line in f]"
   ]
  },
  {
   "cell_type": "code",
   "execution_count": 3,
   "metadata": {
    "collapsed": false,
    "deletable": true,
    "editable": true
   },
   "outputs": [],
   "source": [
    "proba_dict = generator.get_probabilities(text, depth, True, False)"
   ]
  },
  {
   "cell_type": "code",
   "execution_count": 5,
   "metadata": {
    "collapsed": false,
    "deletable": true,
    "editable": true
   },
   "outputs": [
    {
     "name": "stdout",
     "output_type": "stream",
     "text": [
      "Но он не решился. Проходят долгие минуты. Наконец дошел до сломанной мачты, трубы затонувших кораблей, едва уловимые звуки наставника, и он отдал команду идти полным ходом. Жара от пожара становилась невыносимой. Дым душил, пламя захватывало все новые и новые электроны. Световые снаряды начали вышибать эти электроны.\n",
      "- Уж не шпионите ли вы держать Престо в последнее время.\n",
      "- Если мы вовремя не вернемся, то увидите, что он слышит сдержанный шум голосов, скрип досок на полусгнивших палубах под чьими.\n",
      "- Тебе будет недоставать лишь запаха океана. Веревки уходили\n"
     ]
    }
   ],
   "source": [
    "generator.generate(depth, size, proba_dict=proba_dict)"
   ]
  },
  {
   "cell_type": "code",
   "execution_count": 6,
   "metadata": {
    "collapsed": false,
    "deletable": true,
    "editable": true
   },
   "outputs": [
    {
     "name": "stdout",
     "output_type": "stream",
     "text": [
      "Знаете ли вы держать Престо в приподнятом настроении ходил по потолку вниз головой! Ниже, на глазах. Люкс опустилась на кушетку, минуту длилось молчание. Гофман вместо десяти прислал только пять. В ярости, будучи нашими бдительными вахтенными, которые заявили, что все части и узкая в нижней, сохранила черты детского строения. Особенно прочувственную речь сказал губернатор, прокурор и прочие участники прощального ужина Люкс неожиданно заявила своему жениху, блистательному Лоренцу Марру, что ее придется отрезать. И ты получишь у меня. Я скрипел зубами и так, как конфету\n"
     ]
    }
   ],
   "source": [
    "generator.generate(depth, size, proba_dict=proba_dict)"
   ]
  },
  {
   "cell_type": "code",
   "execution_count": 5,
   "metadata": {
    "collapsed": false,
    "deletable": true,
    "editable": true
   },
   "outputs": [
    {
     "name": "stdout",
     "output_type": "stream",
     "text": [
      "Резную он принципиально не желает пускать в свое обиталище. Но как вы добирались? Пешком? Если не сделает никто. Однако все.\n",
      "- Завтра. Если бы право нового Престо. Это будет не совсем точно, что он любит Мэгги, желая ухватиться за край пола. Уильям ушел, сопровождаемый Пипом. И я о том, чтобы под водой, нос заливали волны. Летучие солдаты, разведчики, снайперы, бомбометчики.\n",
      "- Убить его, старика, если это возможно, и остается лишь формальное установление идентичности вашей новой личности с прежним Престо?\n"
     ]
    }
   ],
   "source": [
    "generator.generate(depth, size, proba_dict=proba_dict)"
   ]
  },
  {
   "cell_type": "code",
   "execution_count": 8,
   "metadata": {
    "collapsed": false,
    "deletable": true,
    "editable": true
   },
   "outputs": [
    {
     "name": "stdout",
     "output_type": "stream",
     "text": [
      "Круг.\n",
      "- Читальню Не из мухи сделать человека, и она зажила настолько, что мой костюм как будто один маньяк или злодеи завладел воздухом, заключенным в теплонепроницаемые оболочки. А то, что снабжение кислородом происходит из собственного \"газогенератора\" могло быть у директора крупного торгового предприятия. Вернее, что к этому никаких оснований, о каждодневной горсти риса, об этом говорить. Да, иллюзия постоянства форм имеется. Но я связан обещанием. Клочья легкого тумана тянулись над землей, Ариэль. Шарад устроен. Его лицо могло быть и хуже \"Пришлите\n"
     ]
    }
   ],
   "source": [
    "generator.generate(depth, size, proba_dict=proba_dict)"
   ]
  },
  {
   "cell_type": "code",
   "execution_count": 9,
   "metadata": {
    "collapsed": false,
    "deletable": true,
    "editable": true
   },
   "outputs": [
    {
     "name": "stdout",
     "output_type": "stream",
     "text": [
      "Не хочу и не в Тихом океане один только вид водорослей.\n",
      "- За себя. Но я заставлю их держать! Мне очень хотелось пожить под водой. Освещенные сильной электрической лампой на потолке, другая подвернута. Глаза ее засверкали. Она колебалась. Престо с воспаленными после бессонной ночи. Притом скоро начнет выглядывать солнце. На ужин было приглашено и несколько минут в дверях в одних трусах. Желтоватая кожа Таямы потемнела. На голове ее был цветок полевой ромашки; она умела крепко держать его ноги почти до колен, составляли его костюм, и тысячу\n"
     ]
    }
   ],
   "source": [
    "generator.generate(depth, size, proba_dict=proba_dict)"
   ]
  },
  {
   "cell_type": "code",
   "execution_count": 10,
   "metadata": {
    "collapsed": false,
    "deletable": true,
    "editable": true
   },
   "outputs": [
    {
     "name": "stdout",
     "output_type": "stream",
     "text": [
      "Была опасность, но до самого неба, зубов и думала: закончить этот разговор повторился. Китаец сидел неподвижно, глядя на него рассчитывать было нельзя. Надо бы убрать палатку. А по бокам.\n",
      "- Спросил Штром. Вожак, вместо того, чтобы и он пригласил иностранца на бой, то насколько важнее вернуть к жизни. Он назвал один из сагибов, мистер Гатлинг, умоляю! Гатлинг! Ты оклеветал и его ассистент Денисов стояли на ногах.\n",
      "- И Карпиловскому придется в воздухе \"Брамо\".\n",
      "- Поехали, Джемс Скотт пытался воспользоваться паузой, повернулся\n"
     ]
    }
   ],
   "source": [
    "generator.generate(depth, size, proba_dict=proba_dict)"
   ]
  },
  {
   "cell_type": "code",
   "execution_count": null,
   "metadata": {
    "collapsed": true
   },
   "outputs": [],
   "source": []
  }
 ],
 "metadata": {
  "kernelspec": {
   "display_name": "Python 3",
   "language": "python",
   "name": "python3"
  },
  "language_info": {
   "codemirror_mode": {
    "name": "ipython",
    "version": 3
   },
   "file_extension": ".py",
   "mimetype": "text/x-python",
   "name": "python",
   "nbconvert_exporter": "python",
   "pygments_lexer": "ipython3",
   "version": "3.5.2"
  }
 },
 "nbformat": 4,
 "nbformat_minor": 2
}
